{
 "cells": [
  {
   "cell_type": "code",
   "execution_count": 1,
   "metadata": {},
   "outputs": [],
   "source": [
    "import modin.pandas as pd\n",
    "import numpy as np"
   ]
  },
  {
   "cell_type": "code",
   "execution_count": 2,
   "metadata": {},
   "outputs": [],
   "source": [
    "df = pd.read_csv('data/all_sources_metadata_2020-03-13.csv')"
   ]
  },
  {
   "cell_type": "code",
   "execution_count": 4,
   "metadata": {},
   "outputs": [
    {
     "data": {
      "text/html": [
       "<div>\n",
       "<style scoped>\n",
       "    .dataframe tbody tr th:only-of-type {\n",
       "        vertical-align: middle;\n",
       "    }\n",
       "\n",
       "    .dataframe tbody tr th {\n",
       "        vertical-align: top;\n",
       "    }\n",
       "\n",
       "    .dataframe thead th {\n",
       "        text-align: right;\n",
       "    }\n",
       "</style>\n",
       "<table border=\"1\" class=\"dataframe\">\n",
       "  <thead>\n",
       "    <tr style=\"text-align: right;\">\n",
       "      <th></th>\n",
       "      <th>sha</th>\n",
       "      <th>source_x</th>\n",
       "      <th>title</th>\n",
       "      <th>doi</th>\n",
       "      <th>pmcid</th>\n",
       "      <th>pubmed_id</th>\n",
       "      <th>license</th>\n",
       "      <th>abstract</th>\n",
       "      <th>publish_time</th>\n",
       "      <th>authors</th>\n",
       "      <th>journal</th>\n",
       "      <th>Microsoft Academic Paper ID</th>\n",
       "      <th>WHO #Covidence</th>\n",
       "      <th>has_full_text</th>\n",
       "    </tr>\n",
       "  </thead>\n",
       "  <tbody>\n",
       "    <tr>\n",
       "      <th>0</th>\n",
       "      <td>c630ebcdf30652f0422c3ec12a00b50241dc9bd9</td>\n",
       "      <td>CZI</td>\n",
       "      <td>Angiotensin-converting enzyme 2 (ACE2) as a SA...</td>\n",
       "      <td>10.1007/s00134-020-05985-9</td>\n",
       "      <td>NaN</td>\n",
       "      <td>32125455.0</td>\n",
       "      <td>cc-by-nc</td>\n",
       "      <td>NaN</td>\n",
       "      <td>2020</td>\n",
       "      <td>Zhang, Haibo; Penninger, Josef M.; Li, Yimin; ...</td>\n",
       "      <td>Intensive Care Med</td>\n",
       "      <td>2.002765e+09</td>\n",
       "      <td>#3252</td>\n",
       "      <td>True</td>\n",
       "    </tr>\n",
       "    <tr>\n",
       "      <th>1</th>\n",
       "      <td>53eccda7977a31e3d0f565c884da036b1e85438e</td>\n",
       "      <td>CZI</td>\n",
       "      <td>Comparative genetic analysis of the novel coro...</td>\n",
       "      <td>10.1038/s41421-020-0147-1</td>\n",
       "      <td>NaN</td>\n",
       "      <td>NaN</td>\n",
       "      <td>cc-by</td>\n",
       "      <td>NaN</td>\n",
       "      <td>2020</td>\n",
       "      <td>Cao, Yanan; Li, Lin; Feng, Zhimin; Wan, Shengq...</td>\n",
       "      <td>Cell Discovery</td>\n",
       "      <td>3.003431e+09</td>\n",
       "      <td>#1861</td>\n",
       "      <td>True</td>\n",
       "    </tr>\n",
       "    <tr>\n",
       "      <th>2</th>\n",
       "      <td>210a892deb1c61577f6fba58505fd65356ce6636</td>\n",
       "      <td>CZI</td>\n",
       "      <td>Incubation Period and Other Epidemiological Ch...</td>\n",
       "      <td>10.3390/jcm9020538</td>\n",
       "      <td>NaN</td>\n",
       "      <td>NaN</td>\n",
       "      <td>cc-by</td>\n",
       "      <td>The geographic spread of 2019 novel coronaviru...</td>\n",
       "      <td>2020</td>\n",
       "      <td>Linton, M. Natalie; Kobayashi, Tetsuro; Yang, ...</td>\n",
       "      <td>Journal of Clinical Medicine</td>\n",
       "      <td>3.006065e+09</td>\n",
       "      <td>#1043</td>\n",
       "      <td>True</td>\n",
       "    </tr>\n",
       "  </tbody>\n",
       "</table>\n",
       "</div>"
      ],
      "text/plain": [
       "                                        sha source_x  \\\n",
       "0  c630ebcdf30652f0422c3ec12a00b50241dc9bd9      CZI   \n",
       "1  53eccda7977a31e3d0f565c884da036b1e85438e      CZI   \n",
       "2  210a892deb1c61577f6fba58505fd65356ce6636      CZI   \n",
       "\n",
       "                                               title  \\\n",
       "0  Angiotensin-converting enzyme 2 (ACE2) as a SA...   \n",
       "1  Comparative genetic analysis of the novel coro...   \n",
       "2  Incubation Period and Other Epidemiological Ch...   \n",
       "\n",
       "                          doi pmcid   pubmed_id   license  \\\n",
       "0  10.1007/s00134-020-05985-9   NaN  32125455.0  cc-by-nc   \n",
       "1   10.1038/s41421-020-0147-1   NaN         NaN     cc-by   \n",
       "2          10.3390/jcm9020538   NaN         NaN     cc-by   \n",
       "\n",
       "                                            abstract publish_time  \\\n",
       "0                                                NaN         2020   \n",
       "1                                                NaN         2020   \n",
       "2  The geographic spread of 2019 novel coronaviru...         2020   \n",
       "\n",
       "                                             authors  \\\n",
       "0  Zhang, Haibo; Penninger, Josef M.; Li, Yimin; ...   \n",
       "1  Cao, Yanan; Li, Lin; Feng, Zhimin; Wan, Shengq...   \n",
       "2  Linton, M. Natalie; Kobayashi, Tetsuro; Yang, ...   \n",
       "\n",
       "                        journal  Microsoft Academic Paper ID WHO #Covidence  \\\n",
       "0            Intensive Care Med                 2.002765e+09          #3252   \n",
       "1                Cell Discovery                 3.003431e+09          #1861   \n",
       "2  Journal of Clinical Medicine                 3.006065e+09          #1043   \n",
       "\n",
       "  has_full_text  \n",
       "0          True  \n",
       "1          True  \n",
       "2          True  "
      ]
     },
     "execution_count": 4,
     "metadata": {},
     "output_type": "execute_result"
    }
   ],
   "source": [
    "df.head(3)"
   ]
  },
  {
   "cell_type": "code",
   "execution_count": 5,
   "metadata": {},
   "outputs": [
    {
     "name": "stderr",
     "output_type": "stream",
     "text": [
      "UserWarning: `DataFrame.info` defaulting to pandas implementation.\n",
      "To request implementation, send an email to feature_requests@modin.org.\n"
     ]
    },
    {
     "name": "stdout",
     "output_type": "stream",
     "text": [
      "<class 'modin.pandas.dataframe.DataFrame'>\n",
      "RangeIndex: 29500 entries, 0 to 29499\n",
      "Data columns (total 14 columns):\n",
      "sha                            17420 non-null object\n",
      "source_x                       29500 non-null object\n",
      "title                          29130 non-null object\n",
      "doi                            26357 non-null object\n",
      "pmcid                          27337 non-null object\n",
      "pubmed_id                      16730 non-null float64\n",
      "license                        17692 non-null object\n",
      "abstract                       26553 non-null object\n",
      "publish_time                   18248 non-null object\n",
      "authors                        28554 non-null object\n",
      "journal                        17791 non-null object\n",
      "Microsoft Academic Paper ID    1134 non-null float64\n",
      "WHO #Covidence                 1236 non-null object\n",
      "has_full_text                  17420 non-null object\n",
      "dtypes: float64(2), object(12)\n",
      "memory usage: 3.2+ MB\n"
     ]
    },
    {
     "name": "stderr",
     "output_type": "stream",
     "text": [
      "UserWarning: Distributing <class 'pandas.core.frame.DataFrame'> object. This may take some time.\n"
     ]
    }
   ],
   "source": [
    "df.info()"
   ]
  },
  {
   "cell_type": "code",
   "execution_count": 6,
   "metadata": {},
   "outputs": [
    {
     "name": "stderr",
     "output_type": "stream",
     "text": [
      "UserWarning: `Series.value_counts` defaulting to pandas implementation.\n",
      "UserWarning: Distributing <class 'pandas.core.series.Series'> object. This may take some time.\n"
     ]
    },
    {
     "data": {
      "text/plain": [
       "True     13219\n",
       "False     4201\n",
       "dtype: int64"
      ]
     },
     "execution_count": 6,
     "metadata": {},
     "output_type": "execute_result"
    }
   ],
   "source": [
    "df.has_full_text.value_counts()"
   ]
  },
  {
   "cell_type": "code",
   "execution_count": 7,
   "metadata": {},
   "outputs": [
    {
     "data": {
      "text/plain": [
       "2947"
      ]
     },
     "execution_count": 7,
     "metadata": {},
     "output_type": "execute_result"
    }
   ],
   "source": [
    "df.abstract.isnull().sum()"
   ]
  },
  {
   "cell_type": "code",
   "execution_count": 8,
   "metadata": {},
   "outputs": [
    {
     "data": {
      "text/plain": [
       "(29500, 14)"
      ]
     },
     "execution_count": 8,
     "metadata": {},
     "output_type": "execute_result"
    }
   ],
   "source": [
    "df.shape"
   ]
  },
  {
   "cell_type": "code",
   "execution_count": 10,
   "metadata": {},
   "outputs": [
    {
     "data": {
      "text/plain": [
       "4499"
      ]
     },
     "execution_count": 10,
     "metadata": {},
     "output_type": "execute_result"
    }
   ],
   "source": [
    "len(df.publish_time.value_counts())"
   ]
  },
  {
   "cell_type": "code",
   "execution_count": 11,
   "metadata": {},
   "outputs": [
    {
     "data": {
      "text/plain": [
       "PMC        27337\n",
       "CZI         1236\n",
       "biorxiv      566\n",
       "medrxiv      361\n",
       "dtype: int64"
      ]
     },
     "execution_count": 11,
     "metadata": {},
     "output_type": "execute_result"
    }
   ],
   "source": [
    "df.source_x.value_counts()"
   ]
  },
  {
   "cell_type": "code",
   "execution_count": null,
   "metadata": {},
   "outputs": [],
   "source": []
  }
 ],
 "metadata": {
  "kernelspec": {
   "display_name": "Python 3",
   "language": "python",
   "name": "python3"
  },
  "language_info": {
   "codemirror_mode": {
    "name": "ipython",
    "version": 3
   },
   "file_extension": ".py",
   "mimetype": "text/x-python",
   "name": "python",
   "nbconvert_exporter": "python",
   "pygments_lexer": "ipython3",
   "version": "3.7.5"
  }
 },
 "nbformat": 4,
 "nbformat_minor": 4
}
